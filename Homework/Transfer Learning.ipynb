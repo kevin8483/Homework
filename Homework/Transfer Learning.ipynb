{
 "cells": [
  {
   "cell_type": "markdown",
   "metadata": {},
   "source": [
    "## 本次作業想比較使用原本的整個CNN_layers來進行遷移學習及使用一部分CNN_layers進行的差別"
   ]
  },
  {
   "cell_type": "markdown",
   "metadata": {},
   "source": [
    "## 1.載入套件及資料集"
   ]
  },
  {
   "cell_type": "code",
   "execution_count": 103,
   "metadata": {},
   "outputs": [],
   "source": [
    "# Import some useful packages\n",
    "import matplotlib.pyplot as plt\n",
    "import numpy as np\n",
    "\n",
    "# Layers for FNN\n",
    "from tensorflow.keras.models import Sequential\n",
    "from tensorflow.keras.layers import Dense\n",
    "from tensorflow.keras.layers import Flatten\n",
    "\n",
    "# Layers for CNN\n",
    "from tensorflow.keras.layers import Conv2D, MaxPool2D, GlobalAveragePooling2D\n",
    "\n",
    "from tensorflow.keras.optimizers import SGD, Adam\n",
    "\n",
    "# For data preprocessing\n",
    "from tensorflow.keras import datasets\n",
    "from tensorflow.keras.utils import to_categorical"
   ]
  },
  {
   "cell_type": "markdown",
   "metadata": {},
   "source": [
    "## 2.資料前處理"
   ]
  },
  {
   "cell_type": "code",
   "execution_count": 104,
   "metadata": {},
   "outputs": [],
   "source": [
    "name_list = ['airplane', 'automobile', 'bird', 'cat', 'deer', 'dog', 'frog', 'horse', 'ship', 'truck']"
   ]
  },
  {
   "cell_type": "code",
   "execution_count": 105,
   "metadata": {},
   "outputs": [],
   "source": [
    "# Load CIFAR 10\n",
    "(X_train, y_train0), (X_test, y_test0) = datasets.cifar10.load_data()\n",
    "\n",
    "# Normalize the range of featurs\n",
    "X_train = X_train / X_train.max()\n",
    "X_test = X_test / X_test.max()\n",
    "\n",
    "# One-hot encoding\n",
    "y_train = to_categorical(y_train0, 10)\n",
    "y_test = to_categorical(y_test0, 10)"
   ]
  },
  {
   "cell_type": "code",
   "execution_count": 106,
   "metadata": {},
   "outputs": [
    {
     "data": {
      "image/png": "[encoded data removed]",
      "text/plain": [
       "<Figure size 432x288 with 1 Axes>"
      ]
     },
     "metadata": {
      "needs_background": "light"
     },
     "output_type": "display_data"
    }
   ],
   "source": [
    "idx = np.random.randint(X_train.shape[0])\n",
    "X_sample = X_train[idx]\n",
    "y_sample = y_train0[idx].squeeze()\n",
    "\n",
    "plt.imshow(X_sample)\n",
    "plt.title(name_list[y_sample])\n",
    "plt.axis('off');"
   ]
  },
  {
   "cell_type": "markdown",
   "metadata": {},
   "source": [
    "## 3.使用第二個使用Sequential建立模型的方式"
   ]
  },
  {
   "cell_type": "code",
   "execution_count": 111,
   "metadata": {},
   "outputs": [],
   "source": [
    "CNN_layers_1 = [Conv2D(32, (3, 3), input_shape=(32, 32, 3), padding='same', activation='relu', name='Conv_1_1'),\n",
    "              MaxPool2D(),\n",
    "              Conv2D(128, (3, 3), padding='same', activation='relu', name='Conv_2_1'),\n",
    "              MaxPool2D()]\n",
    "CNN_layers_2 = [Conv2D(512, (3, 3), padding='same', activation='relu', name='Conv_3_2'),\n",
    "              GlobalAveragePooling2D()]\n",
    "\n",
    "FC_layers = [Dense(units=256, activation='relu'),\n",
    "             Dense(units=10, activation='softmax')]"
   ]
  },
  {
   "cell_type": "code",
   "execution_count": 112,
   "metadata": {},
   "outputs": [
    {
     "data": {
      "text/plain": [
       "[<tensorflow.python.keras.layers.convolutional.Conv2D at 0x1aab304e208>,\n",
       " <tensorflow.python.keras.layers.pooling.MaxPooling2D at 0x1aab304e4c8>,\n",
       " <tensorflow.python.keras.layers.convolutional.Conv2D at 0x1aab304e648>,\n",
       " <tensorflow.python.keras.layers.pooling.MaxPooling2D at 0x1aab304e8c8>,\n",
       " <tensorflow.python.keras.layers.convolutional.Conv2D at 0x1aab304e1c8>,\n",
       " <tensorflow.python.keras.layers.pooling.GlobalAveragePooling2D at 0x1aab3043208>,\n",
       " <tensorflow.python.keras.layers.core.Dense at 0x1aab304ec48>,\n",
       " <tensorflow.python.keras.layers.core.Dense at 0x1aab3043c08>]"
      ]
     },
     "execution_count": 112,
     "metadata": {},
     "output_type": "execute_result"
    }
   ],
   "source": [
    "CNN_layers_1 + CNN_layers_2 + FC_layers"
   ]
  },
  {
   "cell_type": "code",
   "execution_count": 123,
   "metadata": {},
   "outputs": [
    {
     "name": "stdout",
     "output_type": "stream",
     "text": [
      "Model: \"sequential_11\"\n",
      "_________________________________________________________________\n",
      "Layer (type)                 Output Shape              Param #   \n",
      "=================================================================\n",
      "Conv_1_1 (Conv2D)            (None, 32, 32, 32)        896       \n",
      "_________________________________________________________________\n",
      "max_pooling2d_22 (MaxPooling (None, 16, 16, 32)        0         \n",
      "_________________________________________________________________\n",
      "Conv_2_1 (Conv2D)            (None, 16, 16, 128)       36992     \n",
      "_________________________________________________________________\n",
      "max_pooling2d_23 (MaxPooling (None, 8, 8, 128)         0         \n",
      "_________________________________________________________________\n",
      "Conv_3_2 (Conv2D)            (None, 8, 8, 512)         590336    \n",
      "_________________________________________________________________\n",
      "global_average_pooling2d_11  (None, 512)               0         \n",
      "_________________________________________________________________\n",
      "dense_43 (Dense)             (None, 256)               131328    \n",
      "_________________________________________________________________\n",
      "dense_44 (Dense)             (None, 10)                2570      \n",
      "=================================================================\n",
      "Total params: 762,122\n",
      "Trainable params: 762,122\n",
      "Non-trainable params: 0\n",
      "_________________________________________________________________\n"
     ]
    }
   ],
   "source": [
    "model = Sequential(CNN_layers_1+CNN_layers_2+FC_layers)\n",
    "model.summary()"
   ]
  },
  {
   "cell_type": "markdown",
   "metadata": {},
   "source": [
    "### 編譯模型"
   ]
  },
  {
   "cell_type": "code",
   "execution_count": 124,
   "metadata": {},
   "outputs": [],
   "source": [
    "model.compile(loss='categorical_crossentropy', \n",
    "              optimizer=Adam(),\n",
    "              metrics=['categorical_accuracy'])"
   ]
  },
  {
   "cell_type": "markdown",
   "metadata": {},
   "source": [
    "### 訓練模型"
   ]
  },
  {
   "cell_type": "code",
   "execution_count": 125,
   "metadata": {},
   "outputs": [
    {
     "name": "stdout",
     "output_type": "stream",
     "text": [
      "Train on 50000 samples, validate on 10000 samples\n",
      "Epoch 1/3\n",
      "50000/50000 [==============================] - 11s 227us/sample - loss: 1.1605 - categorical_accuracy: 0.5807 - val_loss: 1.1767 - val_categorical_accuracy: 0.5752\n",
      "Epoch 2/3\n",
      "50000/50000 [==============================] - 10s 207us/sample - loss: 1.0770 - categorical_accuracy: 0.6135 - val_loss: 1.1260 - val_categorical_accuracy: 0.5952\n",
      "Epoch 3/3\n",
      "50000/50000 [==============================] - 10s 209us/sample - loss: 1.0104 - categorical_accuracy: 0.6395 - val_loss: 1.0205 - val_categorical_accuracy: 0.6437\n"
     ]
    },
    {
     "data": {
      "text/plain": [
       "<tensorflow.python.keras.callbacks.History at 0x1aac0526208>"
      ]
     },
     "execution_count": 125,
     "metadata": {},
     "output_type": "execute_result"
    }
   ],
   "source": [
    "model.fit(X_train, y_train, \n",
    "          batch_size=128, \n",
    "          epochs=3,\n",
    "          validation_data=(X_test, y_test)\n",
    "          )"
   ]
  },
  {
   "cell_type": "markdown",
   "metadata": {},
   "source": [
    "### 模型預測"
   ]
  },
  {
   "cell_type": "code",
   "execution_count": 126,
   "metadata": {},
   "outputs": [
    {
     "name": "stdout",
     "output_type": "stream",
     "text": [
      "50000/50000 [==============================] - 8s 164us/sample - loss: 0.9888 - categorical_accuracy: 0.6518\n",
      "10000/10000 [==============================] - 2s 162us/sample - loss: 1.0205 - categorical_accuracy: 0.6437\n",
      "Train Accuracy: 65.17999768257141\n",
      "Test Accuracy: 64.37000036239624\n"
     ]
    }
   ],
   "source": [
    "score_train = model.evaluate(X_train, y_train)\n",
    "score_test = model.evaluate(X_test, y_test)\n",
    "\n",
    "print(f'Train Accuracy: {score_train[1]*100}')\n",
    "print(f'Test Accuracy: {score_test[1]*100}')"
   ]
  },
  {
   "cell_type": "code",
   "execution_count": 127,
   "metadata": {},
   "outputs": [],
   "source": [
    "model.save('CIFAR10_CNN.h5')  "
   ]
  },
  {
   "cell_type": "code",
   "execution_count": 128,
   "metadata": {},
   "outputs": [
    {
     "data": {
      "text/plain": [
       "[<tensorflow.python.keras.layers.convolutional.Conv2D at 0x1aab304e208>,\n",
       " <tensorflow.python.keras.layers.pooling.MaxPooling2D at 0x1aab304e4c8>,\n",
       " <tensorflow.python.keras.layers.convolutional.Conv2D at 0x1aab304e648>,\n",
       " <tensorflow.python.keras.layers.pooling.MaxPooling2D at 0x1aab304e8c8>,\n",
       " <tensorflow.python.keras.layers.convolutional.Conv2D at 0x1aab304e1c8>,\n",
       " <tensorflow.python.keras.layers.pooling.GlobalAveragePooling2D at 0x1aab3043208>,\n",
       " <tensorflow.python.keras.layers.core.Dense at 0x1aab304ec48>,\n",
       " <tensorflow.python.keras.layers.core.Dense at 0x1aab3043c08>]"
      ]
     },
     "execution_count": 128,
     "metadata": {},
     "output_type": "execute_result"
    }
   ],
   "source": [
    "model.layers"
   ]
  },
  {
   "cell_type": "markdown",
   "metadata": {},
   "source": [
    "## 4.Layer Transfer"
   ]
  },
  {
   "cell_type": "code",
   "execution_count": 130,
   "metadata": {},
   "outputs": [],
   "source": [
    "# Load CIFAR 100\n",
    "(U_train, v_train0), (U_test, v_test0) = datasets.cifar100.load_data()\n",
    "\n",
    "# Normalize the range of featurs\n",
    "U_train = U_train / U_train.max()\n",
    "U_test = U_test / U_test.max()\n",
    "\n",
    "# One-hot encoding\n",
    "v_train = to_categorical(v_train0, 100)\n",
    "v_test = to_categorical(v_test0, 100)"
   ]
  },
  {
   "cell_type": "code",
   "execution_count": 131,
   "metadata": {},
   "outputs": [],
   "source": [
    "FC_layers_CF100 = [Dense(units=256, activation='relu'),\n",
    "                   Dense(units=128, activation='relu'),\n",
    "                   Dense(units=100, activation='softmax')]"
   ]
  },
  {
   "cell_type": "code",
   "execution_count": 134,
   "metadata": {},
   "outputs": [],
   "source": [
    "model_CF100v1 = Sequential(CNN_layers_1+CNN_layers_2+FC_layers_CF100)"
   ]
  },
  {
   "cell_type": "code",
   "execution_count": 135,
   "metadata": {},
   "outputs": [
    {
     "name": "stdout",
     "output_type": "stream",
     "text": [
      "Model: \"sequential_12\"\n",
      "_________________________________________________________________\n",
      "Layer (type)                 Output Shape              Param #   \n",
      "=================================================================\n",
      "Conv_1_1 (Conv2D)            (None, 32, 32, 32)        896       \n",
      "_________________________________________________________________\n",
      "max_pooling2d_22 (MaxPooling (None, 16, 16, 32)        0         \n",
      "_________________________________________________________________\n",
      "Conv_2_1 (Conv2D)            (None, 16, 16, 128)       36992     \n",
      "_________________________________________________________________\n",
      "max_pooling2d_23 (MaxPooling (None, 8, 8, 128)         0         \n",
      "_________________________________________________________________\n",
      "Conv_3_2 (Conv2D)            (None, 8, 8, 512)         590336    \n",
      "_________________________________________________________________\n",
      "global_average_pooling2d_11  (None, 512)               0         \n",
      "_________________________________________________________________\n",
      "dense_48 (Dense)             (None, 256)               131328    \n",
      "_________________________________________________________________\n",
      "dense_49 (Dense)             (None, 128)               32896     \n",
      "_________________________________________________________________\n",
      "dense_50 (Dense)             (None, 100)               12900     \n",
      "=================================================================\n",
      "Total params: 805,348\n",
      "Trainable params: 805,348\n",
      "Non-trainable params: 0\n",
      "_________________________________________________________________\n"
     ]
    }
   ],
   "source": [
    "model_CF100v1.summary()"
   ]
  },
  {
   "cell_type": "markdown",
   "metadata": {},
   "source": [
    "### 將借來的CNN_layers凍結"
   ]
  },
  {
   "cell_type": "code",
   "execution_count": 136,
   "metadata": {},
   "outputs": [],
   "source": [
    "for layer in CNN_layers_1:\n",
    "    layer.trainable = False"
   ]
  },
  {
   "cell_type": "code",
   "execution_count": 137,
   "metadata": {},
   "outputs": [],
   "source": [
    "for layer in CNN_layers_2:\n",
    "    layer.trainable = False"
   ]
  },
  {
   "cell_type": "markdown",
   "metadata": {},
   "source": [
    "### 確定借來的部分確實Non-trainable"
   ]
  },
  {
   "cell_type": "code",
   "execution_count": 138,
   "metadata": {},
   "outputs": [
    {
     "name": "stdout",
     "output_type": "stream",
     "text": [
      "Model: \"sequential_12\"\n",
      "_________________________________________________________________\n",
      "Layer (type)                 Output Shape              Param #   \n",
      "=================================================================\n",
      "Conv_1_1 (Conv2D)            (None, 32, 32, 32)        896       \n",
      "_________________________________________________________________\n",
      "max_pooling2d_22 (MaxPooling (None, 16, 16, 32)        0         \n",
      "_________________________________________________________________\n",
      "Conv_2_1 (Conv2D)            (None, 16, 16, 128)       36992     \n",
      "_________________________________________________________________\n",
      "max_pooling2d_23 (MaxPooling (None, 8, 8, 128)         0         \n",
      "_________________________________________________________________\n",
      "Conv_3_2 (Conv2D)            (None, 8, 8, 512)         590336    \n",
      "_________________________________________________________________\n",
      "global_average_pooling2d_11  (None, 512)               0         \n",
      "_________________________________________________________________\n",
      "dense_48 (Dense)             (None, 256)               131328    \n",
      "_________________________________________________________________\n",
      "dense_49 (Dense)             (None, 128)               32896     \n",
      "_________________________________________________________________\n",
      "dense_50 (Dense)             (None, 100)               12900     \n",
      "=================================================================\n",
      "Total params: 805,348\n",
      "Trainable params: 177,124\n",
      "Non-trainable params: 628,224\n",
      "_________________________________________________________________\n"
     ]
    }
   ],
   "source": [
    "model_CF100v1.summary()"
   ]
  },
  {
   "cell_type": "code",
   "execution_count": 139,
   "metadata": {},
   "outputs": [
    {
     "name": "stdout",
     "output_type": "stream",
     "text": [
      "Train on 50000 samples, validate on 10000 samples\n",
      "Epoch 1/5\n",
      "50000/50000 [==============================] - 8s 159us/sample - loss: 3.6881 - categorical_accuracy: 0.1377 - val_loss: 3.2845 - val_categorical_accuracy: 0.2001\n",
      "Epoch 2/5\n",
      "50000/50000 [==============================] - 5s 109us/sample - loss: 3.1556 - categorical_accuracy: 0.2185 - val_loss: 3.0549 - val_categorical_accuracy: 0.2408\n",
      "Epoch 3/5\n",
      "50000/50000 [==============================] - 5s 109us/sample - loss: 2.9847 - categorical_accuracy: 0.2511 - val_loss: 2.9455 - val_categorical_accuracy: 0.2625\n",
      "Epoch 4/5\n",
      "50000/50000 [==============================] - 5s 108us/sample - loss: 2.8769 - categorical_accuracy: 0.2751 - val_loss: 2.8484 - val_categorical_accuracy: 0.2844\n",
      "Epoch 5/5\n",
      "50000/50000 [==============================] - 5s 110us/sample - loss: 2.7924 - categorical_accuracy: 0.2942 - val_loss: 2.7863 - val_categorical_accuracy: 0.2952\n"
     ]
    },
    {
     "data": {
      "text/plain": [
       "<tensorflow.python.keras.callbacks.History at 0x1aac0f312c8>"
      ]
     },
     "execution_count": 139,
     "metadata": {},
     "output_type": "execute_result"
    }
   ],
   "source": [
    "model_CF100v1.compile(loss='categorical_crossentropy', \n",
    "                    optimizer=Adam(),\n",
    "                    metrics=['categorical_accuracy'])\n",
    "\n",
    "model_CF100v1.fit(U_train, v_train,\n",
    "                batch_size=128, \n",
    "                epochs=5,\n",
    "                validation_data=(U_test, v_test)\n",
    "                )"
   ]
  },
  {
   "cell_type": "code",
   "execution_count": 140,
   "metadata": {},
   "outputs": [
    {
     "name": "stdout",
     "output_type": "stream",
     "text": [
      "50000/50000 [==============================] - 8s 159us/sample - loss: 0.9888 - categorical_accuracy: 0.6518\n",
      "10000/10000 [==============================] - 2s 154us/sample - loss: 1.0205 - categorical_accuracy: 0.6437\n",
      "Train Accuracy: 65.17999768257141\n",
      "Test Accuracy: 64.37000036239624\n"
     ]
    }
   ],
   "source": [
    "score_train = model.evaluate(X_train, y_train)\n",
    "score_test = model.evaluate(X_test, y_test)\n",
    "\n",
    "print(f'Train Accuracy: {score_train[1]*100}')\n",
    "print(f'Test Accuracy: {score_test[1]*100}')"
   ]
  },
  {
   "cell_type": "markdown",
   "metadata": {},
   "source": [
    "### 此結果確實與第一次預測的相同(65/64)"
   ]
  },
  {
   "cell_type": "markdown",
   "metadata": {},
   "source": [
    "## 5.若只凍結CNN_layer的一部分"
   ]
  },
  {
   "cell_type": "code",
   "execution_count": 141,
   "metadata": {},
   "outputs": [],
   "source": [
    "model_CF100v2 = Sequential(CNN_layers_1+CNN_layers_2+FC_layers_CF100)"
   ]
  },
  {
   "cell_type": "code",
   "execution_count": 142,
   "metadata": {},
   "outputs": [
    {
     "name": "stdout",
     "output_type": "stream",
     "text": [
      "Model: \"sequential_12\"\n",
      "_________________________________________________________________\n",
      "Layer (type)                 Output Shape              Param #   \n",
      "=================================================================\n",
      "Conv_1_1 (Conv2D)            (None, 32, 32, 32)        896       \n",
      "_________________________________________________________________\n",
      "max_pooling2d_22 (MaxPooling (None, 16, 16, 32)        0         \n",
      "_________________________________________________________________\n",
      "Conv_2_1 (Conv2D)            (None, 16, 16, 128)       36992     \n",
      "_________________________________________________________________\n",
      "max_pooling2d_23 (MaxPooling (None, 8, 8, 128)         0         \n",
      "_________________________________________________________________\n",
      "Conv_3_2 (Conv2D)            (None, 8, 8, 512)         590336    \n",
      "_________________________________________________________________\n",
      "global_average_pooling2d_11  (None, 512)               0         \n",
      "_________________________________________________________________\n",
      "dense_48 (Dense)             (None, 256)               131328    \n",
      "_________________________________________________________________\n",
      "dense_49 (Dense)             (None, 128)               32896     \n",
      "_________________________________________________________________\n",
      "dense_50 (Dense)             (None, 100)               12900     \n",
      "=================================================================\n",
      "Total params: 805,348\n",
      "Trainable params: 177,124\n",
      "Non-trainable params: 628,224\n",
      "_________________________________________________________________\n"
     ]
    }
   ],
   "source": [
    "model_CF100v1.summary()"
   ]
  },
  {
   "cell_type": "markdown",
   "metadata": {},
   "source": [
    "### 只將CNN_layers_1凍結"
   ]
  },
  {
   "cell_type": "code",
   "execution_count": 143,
   "metadata": {},
   "outputs": [],
   "source": [
    "for layer in CNN_layers_1:\n",
    "    layer.trainable = False"
   ]
  },
  {
   "cell_type": "code",
   "execution_count": 147,
   "metadata": {},
   "outputs": [],
   "source": [
    "for layer in CNN_layers_2:\n",
    "    layer.trainable = True"
   ]
  },
  {
   "cell_type": "code",
   "execution_count": 149,
   "metadata": {},
   "outputs": [
    {
     "name": "stdout",
     "output_type": "stream",
     "text": [
      "Model: \"sequential_13\"\n",
      "_________________________________________________________________\n",
      "Layer (type)                 Output Shape              Param #   \n",
      "=================================================================\n",
      "Conv_1_1 (Conv2D)            (None, 32, 32, 32)        896       \n",
      "_________________________________________________________________\n",
      "max_pooling2d_22 (MaxPooling (None, 16, 16, 32)        0         \n",
      "_________________________________________________________________\n",
      "Conv_2_1 (Conv2D)            (None, 16, 16, 128)       36992     \n",
      "_________________________________________________________________\n",
      "max_pooling2d_23 (MaxPooling (None, 8, 8, 128)         0         \n",
      "_________________________________________________________________\n",
      "Conv_3_2 (Conv2D)            (None, 8, 8, 512)         590336    \n",
      "_________________________________________________________________\n",
      "global_average_pooling2d_11  (None, 512)               0         \n",
      "_________________________________________________________________\n",
      "dense_48 (Dense)             (None, 256)               131328    \n",
      "_________________________________________________________________\n",
      "dense_49 (Dense)             (None, 128)               32896     \n",
      "_________________________________________________________________\n",
      "dense_50 (Dense)             (None, 100)               12900     \n",
      "=================================================================\n",
      "Total params: 805,348\n",
      "Trainable params: 767,460\n",
      "Non-trainable params: 37,888\n",
      "_________________________________________________________________\n"
     ]
    }
   ],
   "source": [
    "model_CF100v2.summary()"
   ]
  },
  {
   "cell_type": "code",
   "execution_count": 150,
   "metadata": {},
   "outputs": [
    {
     "name": "stdout",
     "output_type": "stream",
     "text": [
      "Train on 50000 samples, validate on 10000 samples\n",
      "Epoch 1/5\n",
      "50000/50000 [==============================] - 8s 169us/sample - loss: 2.7231 - categorical_accuracy: 0.3045 - val_loss: 2.6621 - val_categorical_accuracy: 0.3208\n",
      "Epoch 2/5\n",
      "50000/50000 [==============================] - 7s 146us/sample - loss: 2.5890 - categorical_accuracy: 0.3332 - val_loss: 2.6018 - val_categorical_accuracy: 0.3389\n",
      "Epoch 3/5\n",
      "50000/50000 [==============================] - 7s 147us/sample - loss: 2.4900 - categorical_accuracy: 0.3504 - val_loss: 2.5041 - val_categorical_accuracy: 0.3536\n",
      "Epoch 4/5\n",
      "50000/50000 [==============================] - 7s 147us/sample - loss: 2.4163 - categorical_accuracy: 0.3684 - val_loss: 2.4289 - val_categorical_accuracy: 0.3728\n",
      "Epoch 5/5\n",
      "50000/50000 [==============================] - 7s 147us/sample - loss: 2.3432 - categorical_accuracy: 0.3828 - val_loss: 2.4122 - val_categorical_accuracy: 0.3746\n"
     ]
    },
    {
     "data": {
      "text/plain": [
       "<tensorflow.python.keras.callbacks.History at 0x1aac16154c8>"
      ]
     },
     "execution_count": 150,
     "metadata": {},
     "output_type": "execute_result"
    }
   ],
   "source": [
    "model_CF100v2.compile(loss='categorical_crossentropy', \n",
    "                    optimizer=Adam(),\n",
    "                    metrics=['categorical_accuracy'])\n",
    "\n",
    "model_CF100v2.fit(U_train, v_train,\n",
    "                batch_size=128, \n",
    "                epochs=5,\n",
    "                validation_data=(U_test, v_test)\n",
    "                )"
   ]
  },
  {
   "cell_type": "code",
   "execution_count": 151,
   "metadata": {},
   "outputs": [
    {
     "name": "stdout",
     "output_type": "stream",
     "text": [
      "50000/50000 [==============================] - 8s 164us/sample - loss: 1.0861 - categorical_accuracy: 0.6269 - loss: 1.0860 - categorical_accuracy\n",
      "10000/10000 [==============================] - 2s 163us/sample - loss: 1.1115 - categorical_accuracy: 0.6180 - loss: 1.1067 - categori\n",
      "Train Accuracy: 62.69000172615051\n",
      "Test Accuracy: 61.799997091293335\n"
     ]
    }
   ],
   "source": [
    "score_train = model.evaluate(X_train, y_train)\n",
    "score_test = model.evaluate(X_test, y_test)\n",
    "\n",
    "print(f'Train Accuracy: {score_train[1]*100}')\n",
    "print(f'Test Accuracy: {score_test[1]*100}')"
   ]
  },
  {
   "cell_type": "markdown",
   "metadata": {},
   "source": [
    "### 得知準確度確實會不一樣 且準確度低於將CNN_layers_1和CNN_layers_2都凍結住的model_CF100v1"
   ]
  }
 ],
 "metadata": {
  "kernelspec": {
   "display_name": "Python 3",
   "language": "python",
   "name": "python3"
  },
  "language_info": {
   "codemirror_mode": {
    "name": "ipython",
    "version": 3
   },
   "file_extension": ".py",
   "mimetype": "text/x-python",
   "name": "python",
   "nbconvert_exporter": "python",
   "pygments_lexer": "ipython3",
   "version": "3.7.4"
  }
 },
 "nbformat": 4,
 "nbformat_minor": 2
}
