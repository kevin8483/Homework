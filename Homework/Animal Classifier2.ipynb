{
 "cells": [
  {
   "cell_type": "markdown",
   "metadata": {},
   "source": [
    "### 計算機程式專案報告 --- 分辨10種動物"
   ]
  },
  {
   "cell_type": "markdown",
   "metadata": {},
   "source": [
    "### 專案分工\n",
    "\n",
    "#### 105306047 資管四 張鎧 編輯程式碼、註解\n",
    "#### 105306015 資管四 余柏霖 收集資料、整理資料\n",
    "#### 105303090 會計四 洪瑞伸 編輯程式碼"
   ]
  },
  {
   "cell_type": "markdown",
   "metadata": {},
   "source": [
    "### 問題發想與困難\n",
    "\n",
    "#### 對大人來說辨別物種不是一件難事，但對於學齡前兒童可能是一大難關，故我們想透過這個程式幫助小朋友認識物種，為了方便小孩子吸收，我們先從10種物種開始，之後有想過要增加辨識色情圖片的功能，也有找到色情圖片的資料集，但後來發現要把兩個功能結合有點困難，我們最後還是決定自己再做一個辨識動物的程式。"
   ]
  },
  {
   "cell_type": "markdown",
   "metadata": {},
   "source": [
    "### 資料來源：https://www.kaggle.com/alessiocorrado99/animals10"
   ]
  },
  {
   "cell_type": "markdown",
   "metadata": {},
   "source": [
    "### import 和 讀入數據集"
   ]
  },
  {
   "cell_type": "code",
   "execution_count": 1,
   "metadata": {},
   "outputs": [],
   "source": [
    "from PIL import Image\n",
    "import numpy as np\n",
    "import matplotlib.pyplot as plt\n",
    "import cv2\n",
    "import os"
   ]
  },
  {
   "cell_type": "code",
   "execution_count": null,
   "metadata": {},
   "outputs": [],
   "source": [
    "activated = False\n",
    "if activated:\n",
    "    data = []\n",
    "    labels = []\n",
    "    img_size = (50, 50)\n",
    "\n",
    "    img_folder_path = 'img'\n",
    "    folders = os.listdir(img_folder_path)\n",
    "    img_num = 1000\n",
    "\n",
    "    for i in range(len(folders)):\n",
    "        folder_name = folders[i]\n",
    "        folder_path = img_folder_path + '/' + folder_name\n",
    "        folder = os.listdir(folder_path)\n",
    "        for img_name in folder[:img_num]:\n",
    "            img_path = folder_path + '/' + img_name\n",
    "            img = cv2.imread(img_path)\n",
    "            img_from_array = Image.fromarray(img, 'RGB')\n",
    "            img_resized = img_from_array.resize(img_size)\n",
    "            data.append(np.array(img_resized))\n",
    "            labels.append(i)\n",
    "\n",
    "    animals = np.array(data)\n",
    "    labels = np.array(labels)\n",
    "    np.save(\"animals\", animals)\n",
    "    np.save(\"labels\", labels)"
   ]
  },
  {
   "cell_type": "code",
   "execution_count": 3,
   "metadata": {},
   "outputs": [],
   "source": [
    "animals = np.load(\"animals.npy\")\n",
    "labels = np.load(\"labels.npy\")\n",
    "\n",
    "data_length = len(animals)\n",
    "classes_num = len(np.unique(labels))\n",
    "\n",
    "order = np.arange(data_length)\n",
    "np.random.shuffle(order)\n",
    "\n",
    "animals = animals[order]\n",
    "labels = labels[order]\n"
   ]
  },
  {
   "cell_type": "code",
   "execution_count": 4,
   "metadata": {},
   "outputs": [],
   "source": [
    "ratio = 0.1\n",
    "(x_train, x_test) = animals[int(ratio * data_length) : ], animals[ : int(ratio * data_length)]\n",
    "x_train = x_train.astype('float32') / 255\n",
    "x_test = x_test.astype('float32') / 255\n",
    "\n",
    "train_length = len(x_train)\n",
    "test_length = len(x_test)\n",
    "\n",
    "(y_train, y_test) = labels[int(ratio * data_length) : ], labels[ : int(ratio*data_length)]"
   ]
  },
  {
   "cell_type": "markdown",
   "metadata": {},
   "source": [
    "### one-hot-encoding"
   ]
  },
  {
   "cell_type": "code",
   "execution_count": 9,
   "metadata": {},
   "outputs": [
    {
     "name": "stderr",
     "output_type": "stream",
     "text": [
      "Using TensorFlow backend.\n"
     ]
    }
   ],
   "source": [
    "# one-hot-encoding\n",
    "import keras\n",
    "from keras.utils import np_utils\n",
    "\n",
    "y_train = keras.utils.to_categorical(y_train, classes_num)\n",
    "y_test = keras.utils.to_categorical(y_test, classes_num)"
   ]
  },
  {
   "cell_type": "markdown",
   "metadata": {},
   "source": [
    "### 建造捲積神經網路 CNN"
   ]
  },
  {
   "cell_type": "code",
   "execution_count": 10,
   "metadata": {
    "scrolled": true
   },
   "outputs": [
    {
     "name": "stdout",
     "output_type": "stream",
     "text": [
      "WARNING:tensorflow:From C:\\Users\\123na\\Anaconda3\\lib\\site-packages\\keras\\backend\\tensorflow_backend.py:74: The name tf.get_default_graph is deprecated. Please use tf.compat.v1.get_default_graph instead.\n",
      "\n",
      "WARNING:tensorflow:From C:\\Users\\123na\\Anaconda3\\lib\\site-packages\\keras\\backend\\tensorflow_backend.py:517: The name tf.placeholder is deprecated. Please use tf.compat.v1.placeholder instead.\n",
      "\n",
      "WARNING:tensorflow:From C:\\Users\\123na\\Anaconda3\\lib\\site-packages\\keras\\backend\\tensorflow_backend.py:4138: The name tf.random_uniform is deprecated. Please use tf.random.uniform instead.\n",
      "\n",
      "WARNING:tensorflow:From C:\\Users\\123na\\Anaconda3\\lib\\site-packages\\keras\\backend\\tensorflow_backend.py:3976: The name tf.nn.max_pool is deprecated. Please use tf.nn.max_pool2d instead.\n",
      "\n",
      "WARNING:tensorflow:From C:\\Users\\123na\\Anaconda3\\lib\\site-packages\\keras\\backend\\tensorflow_backend.py:133: The name tf.placeholder_with_default is deprecated. Please use tf.compat.v1.placeholder_with_default instead.\n",
      "\n",
      "WARNING:tensorflow:From C:\\Users\\123na\\Anaconda3\\lib\\site-packages\\keras\\backend\\tensorflow_backend.py:3445: calling dropout (from tensorflow.python.ops.nn_ops) with keep_prob is deprecated and will be removed in a future version.\n",
      "Instructions for updating:\n",
      "Please use `rate` instead of `keep_prob`. Rate should be set to `rate = 1 - keep_prob`.\n",
      "WARNING:tensorflow:From C:\\Users\\123na\\Anaconda3\\lib\\site-packages\\keras\\optimizers.py:790: The name tf.train.Optimizer is deprecated. Please use tf.compat.v1.train.Optimizer instead.\n",
      "\n",
      "WARNING:tensorflow:From C:\\Users\\123na\\Anaconda3\\lib\\site-packages\\keras\\backend\\tensorflow_backend.py:3295: The name tf.log is deprecated. Please use tf.math.log instead.\n",
      "\n",
      "_________________________________________________________________\n",
      "Layer (type)                 Output Shape              Param #   \n",
      "=================================================================\n",
      "conv2d_1 (Conv2D)            (None, 50, 50, 16)        208       \n",
      "_________________________________________________________________\n",
      "max_pooling2d_1 (MaxPooling2 (None, 25, 25, 16)        0         \n",
      "_________________________________________________________________\n",
      "conv2d_2 (Conv2D)            (None, 25, 25, 32)        2080      \n",
      "_________________________________________________________________\n",
      "max_pooling2d_2 (MaxPooling2 (None, 12, 12, 32)        0         \n",
      "_________________________________________________________________\n",
      "conv2d_3 (Conv2D)            (None, 12, 12, 64)        8256      \n",
      "_________________________________________________________________\n",
      "max_pooling2d_3 (MaxPooling2 (None, 6, 6, 64)          0         \n",
      "_________________________________________________________________\n",
      "dropout_1 (Dropout)          (None, 6, 6, 64)          0         \n",
      "_________________________________________________________________\n",
      "flatten_1 (Flatten)          (None, 2304)              0         \n",
      "_________________________________________________________________\n",
      "dense_1 (Dense)              (None, 500)               1152500   \n",
      "_________________________________________________________________\n",
      "dropout_2 (Dropout)          (None, 500)               0         \n",
      "_________________________________________________________________\n",
      "dense_2 (Dense)              (None, 10)                5010      \n",
      "=================================================================\n",
      "Total params: 1,168,054\n",
      "Trainable params: 1,168,054\n",
      "Non-trainable params: 0\n",
      "_________________________________________________________________\n"
     ]
    }
   ],
   "source": [
    "from keras.models import Sequential\n",
    "from keras.layers import Conv2D, MaxPooling2D, Dense, Flatten, Dropout\n",
    "\n",
    "model = Sequential()\n",
    "\n",
    "model.add(Conv2D(filters=16, kernel_size=2, padding=\"same\", activation=\"relu\", input_shape=(50, 50 , 3)))\n",
    "model.add(MaxPooling2D(pool_size=2))\n",
    "model.add(Conv2D(filters=32, kernel_size=2, padding=\"same\", activation=\"relu\"))\n",
    "model.add(MaxPooling2D(pool_size=2))\n",
    "model.add(Conv2D(filters=64, kernel_size=2, padding=\"same\", activation=\"relu\"))\n",
    "model.add(MaxPooling2D(pool_size=2))\n",
    "model.add(Dropout(0.2))\n",
    "model.add(Flatten())\n",
    "model.add(Dense(500, activation=\"relu\"))\n",
    "model.add(Dropout(0.2))\n",
    "model.add(Dense(classes_num, activation=\"softmax\"))\n",
    "\n",
    "model.compile(loss='categorical_crossentropy', optimizer='adam', metrics=['accuracy'])\n",
    "\n",
    "model.summary()"
   ]
  },
  {
   "cell_type": "markdown",
   "metadata": {},
   "source": [
    "### 訓練模型"
   ]
  },
  {
   "cell_type": "code",
   "execution_count": 11,
   "metadata": {},
   "outputs": [
    {
     "name": "stdout",
     "output_type": "stream",
     "text": [
      "WARNING:tensorflow:From C:\\Users\\123na\\Anaconda3\\lib\\site-packages\\tensorflow_core\\python\\ops\\math_grad.py:1424: where (from tensorflow.python.ops.array_ops) is deprecated and will be removed in a future version.\n",
      "Instructions for updating:\n",
      "Use tf.where in 2.0, which has the same broadcast rule as np.where\n",
      "WARNING:tensorflow:From C:\\Users\\123na\\Anaconda3\\lib\\site-packages\\keras\\backend\\tensorflow_backend.py:986: The name tf.assign_add is deprecated. Please use tf.compat.v1.assign_add instead.\n",
      "\n",
      "WARNING:tensorflow:From C:\\Users\\123na\\Anaconda3\\lib\\site-packages\\keras\\backend\\tensorflow_backend.py:973: The name tf.assign is deprecated. Please use tf.compat.v1.assign instead.\n",
      "\n",
      "WARNING:tensorflow:From C:\\Users\\123na\\Anaconda3\\lib\\site-packages\\keras\\backend\\tensorflow_backend.py:2741: The name tf.Session is deprecated. Please use tf.compat.v1.Session instead.\n",
      "\n",
      "Epoch 1/20\n",
      "WARNING:tensorflow:From C:\\Users\\123na\\Anaconda3\\lib\\site-packages\\keras\\backend\\tensorflow_backend.py:174: The name tf.get_default_session is deprecated. Please use tf.compat.v1.get_default_session instead.\n",
      "\n",
      "WARNING:tensorflow:From C:\\Users\\123na\\Anaconda3\\lib\\site-packages\\keras\\backend\\tensorflow_backend.py:181: The name tf.ConfigProto is deprecated. Please use tf.compat.v1.ConfigProto instead.\n",
      "\n",
      "WARNING:tensorflow:From C:\\Users\\123na\\Anaconda3\\lib\\site-packages\\keras\\backend\\tensorflow_backend.py:190: The name tf.global_variables is deprecated. Please use tf.compat.v1.global_variables instead.\n",
      "\n",
      "WARNING:tensorflow:From C:\\Users\\123na\\Anaconda3\\lib\\site-packages\\keras\\backend\\tensorflow_backend.py:199: The name tf.is_variable_initialized is deprecated. Please use tf.compat.v1.is_variable_initialized instead.\n",
      "\n",
      "WARNING:tensorflow:From C:\\Users\\123na\\Anaconda3\\lib\\site-packages\\keras\\backend\\tensorflow_backend.py:206: The name tf.variables_initializer is deprecated. Please use tf.compat.v1.variables_initializer instead.\n",
      "\n",
      "9000/9000 [==============================] - 14s 2ms/step - loss: 2.0429 - acc: 0.2524\n",
      "Epoch 2/20\n",
      "9000/9000 [==============================] - 13s 1ms/step - loss: 1.7051 - acc: 0.3997\n",
      "Epoch 3/20\n",
      "9000/9000 [==============================] - 13s 1ms/step - loss: 1.5222 - acc: 0.4691\n",
      "Epoch 4/20\n",
      "9000/9000 [==============================] - 13s 1ms/step - loss: 1.3707 - acc: 0.5287\n",
      "Epoch 5/20\n",
      "9000/9000 [==============================] - 13s 1ms/step - loss: 1.2654 - acc: 0.5591\n",
      "Epoch 6/20\n",
      "9000/9000 [==============================] - 13s 1ms/step - loss: 1.1539 - acc: 0.6013\n",
      "Epoch 7/20\n",
      "9000/9000 [==============================] - 14s 2ms/step - loss: 1.0959 - acc: 0.6261\n",
      "Epoch 8/20\n",
      "9000/9000 [==============================] - 13s 1ms/step - loss: 0.9891 - acc: 0.6609\n",
      "Epoch 9/20\n",
      "9000/9000 [==============================] - 14s 2ms/step - loss: 0.9001 - acc: 0.6913\n",
      "Epoch 10/20\n",
      "9000/9000 [==============================] - 13s 1ms/step - loss: 0.8166 - acc: 0.7223\n",
      "Epoch 11/20\n",
      "9000/9000 [==============================] - 14s 2ms/step - loss: 0.7270 - acc: 0.7478\n",
      "Epoch 12/20\n",
      "9000/9000 [==============================] - 14s 2ms/step - loss: 0.6546 - acc: 0.7778\n",
      "Epoch 13/20\n",
      "9000/9000 [==============================] - 14s 2ms/step - loss: 0.5860 - acc: 0.8038\n",
      "Epoch 14/20\n",
      "9000/9000 [==============================] - 14s 2ms/step - loss: 0.5049 - acc: 0.8278\n",
      "Epoch 15/20\n",
      "9000/9000 [==============================] - 14s 2ms/step - loss: 0.4389 - acc: 0.8503\n",
      "Epoch 16/20\n",
      "9000/9000 [==============================] - 14s 2ms/step - loss: 0.3702 - acc: 0.8746\n",
      "Epoch 17/20\n",
      "9000/9000 [==============================] - 14s 2ms/step - loss: 0.3380 - acc: 0.8859\n",
      "Epoch 18/20\n",
      "9000/9000 [==============================] - 14s 2ms/step - loss: 0.2970 - acc: 0.9006\n",
      "Epoch 19/20\n",
      "9000/9000 [==============================] - 14s 2ms/step - loss: 0.2615 - acc: 0.9149\n",
      "Epoch 20/20\n",
      "9000/9000 [==============================] - 18s 2ms/step - loss: 0.2318 - acc: 0.9232\n"
     ]
    },
    {
     "data": {
      "text/plain": [
       "<keras.callbacks.History at 0x2da84b77c88>"
      ]
     },
     "execution_count": 11,
     "metadata": {},
     "output_type": "execute_result"
    }
   ],
   "source": [
    "model.fit(x_train, y_train, batch_size=50, epochs=20, verbose=1)"
   ]
  },
  {
   "cell_type": "code",
   "execution_count": 28,
   "metadata": {},
   "outputs": [
    {
     "name": "stdout",
     "output_type": "stream",
     "text": [
      "1000/1000 [==============================] - 1s 972us/step\n",
      "\n",
      " Test accuracy: 0.602\n"
     ]
    }
   ],
   "source": [
    "score = model.evaluate(x_test, y_test, verbose=1)\n",
    "print('\\n', 'Test accuracy:', score[1])"
   ]
  },
  {
   "cell_type": "markdown",
   "metadata": {},
   "source": [
    "### 建立及測試功能"
   ]
  },
  {
   "cell_type": "code",
   "execution_count": 42,
   "metadata": {},
   "outputs": [],
   "source": [
    "from ipywidgets import interact_manual\n",
    "\n",
    "def convert_to_array(img):\n",
    "    im = cv2.imread(img)\n",
    "    img = Image.fromarray(im, 'RGB')\n",
    "    image = img.resize((50, 50))\n",
    "    return np.array(image)\n",
    "\n",
    "def get_animal_name(label):\n",
    "    label_dict = {'0': 'butterfly', '1': 'cat', '2': 'chicken', '3': 'cow', '4': 'dog', '5': 'elephant',\\\n",
    "     '6': 'horse', '7': 'sheep', '8': 'spider', '9': 'squirrel'}\n",
    "    res = label_dict[str(label)]\n",
    "    return res\n",
    "    \n",
    "def predict_animal(file):\n",
    "    print(\"Predicting .................................\")\n",
    "    ar = convert_to_array(file)\n",
    "    ar = ar/255\n",
    "    label = 1\n",
    "    a = []\n",
    "    a.append(ar)\n",
    "    a = np.array(a)\n",
    "    score = model.predict(a,verbose=1)\n",
    "    print(score)\n",
    "    label_index = np.argmax(score)\n",
    "    print(label_index)\n",
    "    acc = np.max(score)\n",
    "    animal = get_animal_name(label_index)\n",
    "    print(animal)\n",
    "    print(\"Animal : \" + animal + \"\\nwith accuracy =    \" + str(acc))\n",
    "\n",
    "def demo_test(n):\n",
    "    i = x_test[n]\n",
    "    plt.imshow(i)\n",
    "    i = i.reshape(1, i.shape[0], i.shape[1], i.shape[2])\n",
    "    score = model.predict(i,verbose=0)\n",
    "    label_index = np.argmax(score)\n",
    "    acc = np.max(score)\n",
    "    animal = get_animal_name(label_index)\n",
    "    print(\"Animal : \" + animal + \"\\nwith accuracy =    \" + str(acc))\n"
   ]
  },
  {
   "cell_type": "code",
   "execution_count": 43,
   "metadata": {},
   "outputs": [
    {
     "data": {
      "application/vnd.jupyter.widget-view+json": {
       "model_id": "b0bde66d386048cc9359f060812bcf3f",
       "version_major": 2,
       "version_minor": 0
      },
      "text/plain": [
       "interactive(children=(IntSlider(value=499, description='n', max=999), Button(description='Run Interact', style…"
      ]
     },
     "metadata": {},
     "output_type": "display_data"
    }
   ],
   "source": [
    "interact_manual(demo_test, n = (0, len(x_test)-1));"
   ]
  },
  {
   "cell_type": "code",
   "execution_count": 44,
   "metadata": {},
   "outputs": [
    {
     "name": "stdout",
     "output_type": "stream",
     "text": [
      "Predicting .................................\n",
      "1/1 [==============================] - 0s 3ms/step\n",
      "[[7.7545065e-01 1.6267444e-01 1.1766575e-02 3.1154777e-08 3.6069020e-03\n",
      "  1.1624001e-05 5.9630292e-09 6.7512769e-07 4.6482239e-02 6.9391672e-06]]\n",
      "0\n",
      "butterfly\n",
      "Animal : butterfly\n",
      "with accuracy =    0.77545065\n"
     ]
    }
   ],
   "source": [
    "predict_animal(\"test/butterfly.jpeg\")"
   ]
  },
  {
   "cell_type": "markdown",
   "metadata": {},
   "source": [
    "### 得到7成7的準確度"
   ]
  },
  {
   "cell_type": "markdown",
   "metadata": {},
   "source": [
    "### 結論： \n",
    "#### 經過這次的實作之後，我們發現在執行一個專案必須考慮到非常多的細節，只要一個小地方出錯，牽一髮而動全身會影響到整個測試的結果，最後的準確度雖不到非常精準，但仍有一定的準確率，在之後我們也會繼續嘗試其他方式或調整參數以提高準確率。"
   ]
  },
  {
   "cell_type": "markdown",
   "metadata": {},
   "source": [
    "### 實作心得：\n",
    "#### 我們這組的組成儘管有資管系的同學，但我們在實作的過程中還是遇到了一些困難，譬如會計系的同學提到說他之前從沒接觸過程式相關的課程及學習，因此我們在建立神經網路的過程，還是盡量依照炎龍老師課堂上的示範跟著操作，最後至少在測試資料的準確度也得到不錯的效果，而前面整理資料的過程，雖然只有十種動物，但整體的資料量依舊相當大，因此在這次的專案中，我們也實際體會到整理資料並選擇資料量的大小的重要性。"
   ]
  }
 ],
 "metadata": {
  "kernelspec": {
   "display_name": "Python 3",
   "language": "python",
   "name": "python3"
  },
  "language_info": {
   "codemirror_mode": {
    "name": "ipython",
    "version": 3
   },
   "file_extension": ".py",
   "mimetype": "text/x-python",
   "name": "python",
   "nbconvert_exporter": "python",
   "pygments_lexer": "ipython3",
   "version": "3.7.4"
  }
 },
 "nbformat": 4,
 "nbformat_minor": 2
}
