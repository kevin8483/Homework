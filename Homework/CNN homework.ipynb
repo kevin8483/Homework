{
 "cells": [
  {
   "cell_type": "code",
   "execution_count": 1,
   "metadata": {},
   "outputs": [],
   "source": [
    "%matplotlib inline\n",
    "\n",
    "import numpy as np\n",
    "import matplotlib.pyplot as plt\n",
    "import pandas as pd"
   ]
  },
  {
   "cell_type": "markdown",
   "metadata": {},
   "source": [
    "### 讀入數據集"
   ]
  },
  {
   "cell_type": "code",
   "execution_count": 2,
   "metadata": {},
   "outputs": [],
   "source": [
    "from tensorflow.keras.datasets import fashion_mnist"
   ]
  },
  {
   "cell_type": "code",
   "execution_count": 3,
   "metadata": {},
   "outputs": [],
   "source": [
    "(x_train, y_train),(x_test, y_test) = fashion_mnist.load_data()"
   ]
  },
  {
   "cell_type": "code",
   "execution_count": 4,
   "metadata": {
    "scrolled": true
   },
   "outputs": [],
   "source": [
    "class_names = ['T-shirt/top', 'Trouser', 'Pullover', 'Dress', 'Coat',\n",
    "               'Sandal', 'Shirt', 'Sneaker', 'Bag', 'Ankle boot']"
   ]
  },
  {
   "cell_type": "markdown",
   "metadata": {},
   "source": [
    "### 確認數據集內容"
   ]
  },
  {
   "cell_type": "code",
   "execution_count": 5,
   "metadata": {},
   "outputs": [
    {
     "data": {
      "text/plain": [
       "(60000, 28, 28)"
      ]
     },
     "execution_count": 5,
     "metadata": {},
     "output_type": "execute_result"
    }
   ],
   "source": [
    "x_train.shape"
   ]
  },
  {
   "cell_type": "code",
   "execution_count": 6,
   "metadata": {},
   "outputs": [
    {
     "data": {
      "text/plain": [
       "(10000, 28, 28)"
      ]
     },
     "execution_count": 6,
     "metadata": {},
     "output_type": "execute_result"
    }
   ],
   "source": [
    "x_test.shape"
   ]
  },
  {
   "cell_type": "markdown",
   "metadata": {},
   "source": [
    "### 將資料初步處理"
   ]
  },
  {
   "cell_type": "code",
   "execution_count": 7,
   "metadata": {},
   "outputs": [],
   "source": [
    "x_train = x_train.reshape(60000, 28, 28, 1)/255\n",
    "x_test = x_test.reshape(10000, 28, 28, 1)/255"
   ]
  },
  {
   "cell_type": "markdown",
   "metadata": {},
   "source": [
    "### 檢查資料"
   ]
  },
  {
   "cell_type": "code",
   "execution_count": 8,
   "metadata": {},
   "outputs": [
    {
     "data": {
      "text/plain": [
       "(28, 28, 1)"
      ]
     },
     "execution_count": 8,
     "metadata": {},
     "output_type": "execute_result"
    }
   ],
   "source": [
    "x_train[666].shape"
   ]
  },
  {
   "cell_type": "markdown",
   "metadata": {},
   "source": [
    "### one-hot encoding"
   ]
  },
  {
   "cell_type": "code",
   "execution_count": 9,
   "metadata": {},
   "outputs": [],
   "source": [
    "from tensorflow.keras.utils import to_categorical"
   ]
  },
  {
   "cell_type": "code",
   "execution_count": 10,
   "metadata": {},
   "outputs": [],
   "source": [
    "y_train = to_categorical(y_train,10)\n",
    "y_test = to_categorical(y_test,10)"
   ]
  },
  {
   "cell_type": "markdown",
   "metadata": {},
   "source": [
    "### 開始建立CNN"
   ]
  },
  {
   "cell_type": "code",
   "execution_count": 11,
   "metadata": {},
   "outputs": [],
   "source": [
    "from tensorflow.keras.models import Sequential\n",
    "from tensorflow.keras.layers import Dense, Flatten\n",
    "from tensorflow.keras.layers import Conv2D, MaxPooling2D\n",
    "from tensorflow.keras.optimizers import SGD"
   ]
  },
  {
   "cell_type": "code",
   "execution_count": 12,
   "metadata": {},
   "outputs": [],
   "source": [
    "model = Sequential()"
   ]
  },
  {
   "cell_type": "markdown",
   "metadata": {},
   "source": [
    "### 建立三層Conv2D 與 MaxPooling2D 分別16/32/64個(3*3)Filter"
   ]
  },
  {
   "cell_type": "code",
   "execution_count": 13,
   "metadata": {},
   "outputs": [],
   "source": [
    "model.add(Conv2D(32,(3,3), padding='same',input_shape = (28,28,1), activation='relu'))\n",
    "model.add(MaxPooling2D(pool_size=(2,2)))"
   ]
  },
  {
   "cell_type": "code",
   "execution_count": null,
   "metadata": {},
   "outputs": [],
   "source": []
  },
  {
   "cell_type": "code",
   "execution_count": 14,
   "metadata": {},
   "outputs": [],
   "source": [
    "model.add(Conv2D(32, (3,3), padding='same',activation='relu'))\n",
    "model.add(MaxPooling2D(pool_size=(2,2)))"
   ]
  },
  {
   "cell_type": "code",
   "execution_count": 61,
   "metadata": {},
   "outputs": [],
   "source": []
  },
  {
   "cell_type": "code",
   "execution_count": 15,
   "metadata": {},
   "outputs": [],
   "source": [
    "model.add(Conv2D(64,(3,3), padding='same', activation='relu'))\n",
    "model.add(MaxPooling2D(pool_size=(2,2)))"
   ]
  },
  {
   "cell_type": "code",
   "execution_count": 63,
   "metadata": {},
   "outputs": [],
   "source": []
  },
  {
   "cell_type": "markdown",
   "metadata": {},
   "source": [
    "### 拉平"
   ]
  },
  {
   "cell_type": "code",
   "execution_count": 16,
   "metadata": {},
   "outputs": [],
   "source": [
    "model.add(Flatten())"
   ]
  },
  {
   "cell_type": "code",
   "execution_count": 17,
   "metadata": {},
   "outputs": [],
   "source": [
    "model.add(Dense(54, activation='relu'))"
   ]
  },
  {
   "cell_type": "code",
   "execution_count": 18,
   "metadata": {},
   "outputs": [],
   "source": [
    "model.add(Dense(10 ,activation='softmax'))"
   ]
  },
  {
   "cell_type": "code",
   "execution_count": 19,
   "metadata": {},
   "outputs": [
    {
     "name": "stdout",
     "output_type": "stream",
     "text": [
      "Model: \"sequential\"\n",
      "_________________________________________________________________\n",
      "Layer (type)                 Output Shape              Param #   \n",
      "=================================================================\n",
      "conv2d (Conv2D)              (None, 28, 28, 32)        320       \n",
      "_________________________________________________________________\n",
      "max_pooling2d (MaxPooling2D) (None, 14, 14, 32)        0         \n",
      "_________________________________________________________________\n",
      "conv2d_1 (Conv2D)            (None, 14, 14, 32)        9248      \n",
      "_________________________________________________________________\n",
      "max_pooling2d_1 (MaxPooling2 (None, 7, 7, 32)          0         \n",
      "_________________________________________________________________\n",
      "conv2d_2 (Conv2D)            (None, 7, 7, 64)          18496     \n",
      "_________________________________________________________________\n",
      "max_pooling2d_2 (MaxPooling2 (None, 3, 3, 64)          0         \n",
      "_________________________________________________________________\n",
      "flatten (Flatten)            (None, 576)               0         \n",
      "_________________________________________________________________\n",
      "dense (Dense)                (None, 54)                31158     \n",
      "_________________________________________________________________\n",
      "dense_1 (Dense)              (None, 10)                550       \n",
      "=================================================================\n",
      "Total params: 59,772\n",
      "Trainable params: 59,772\n",
      "Non-trainable params: 0\n",
      "_________________________________________________________________\n"
     ]
    }
   ],
   "source": [
    "model.summary()"
   ]
  },
  {
   "cell_type": "markdown",
   "metadata": {},
   "source": [
    "### 訓練資料 optimizer使用adam 試著提高accuracy"
   ]
  },
  {
   "cell_type": "code",
   "execution_count": 20,
   "metadata": {},
   "outputs": [],
   "source": [
    "model.compile(loss = 'mse', optimizer = 'adam', metrics=['accuracy'])"
   ]
  },
  {
   "cell_type": "code",
   "execution_count": 21,
   "metadata": {},
   "outputs": [
    {
     "name": "stdout",
     "output_type": "stream",
     "text": [
      "Train on 48000 samples, validate on 12000 samples\n",
      "Epoch 1/16\n",
      "48000/48000 [==============================] - 9s 189us/sample - loss: 0.0294 - accuracy: 0.7905 - val_loss: 0.0230 - val_accuracy: 0.8367\n",
      "Epoch 2/16\n",
      "48000/48000 [==============================] - 5s 100us/sample - loss: 0.0189 - accuracy: 0.8698 - val_loss: 0.0180 - val_accuracy: 0.8769\n",
      "Epoch 3/16\n",
      "48000/48000 [==============================] - 5s 99us/sample - loss: 0.0164 - accuracy: 0.8887 - val_loss: 0.0155 - val_accuracy: 0.8955\n",
      "Epoch 4/16\n",
      "48000/48000 [==============================] - 5s 99us/sample - loss: 0.0148 - accuracy: 0.8990 - val_loss: 0.0151 - val_accuracy: 0.8996\n",
      "Epoch 5/16\n",
      "48000/48000 [==============================] - 5s 102us/sample - loss: 0.0137 - accuracy: 0.9065 - val_loss: 0.0149 - val_accuracy: 0.8989\n",
      "Epoch 6/16\n",
      "48000/48000 [==============================] - 5s 103us/sample - loss: 0.0127 - accuracy: 0.9137 - val_loss: 0.0138 - val_accuracy: 0.9079\n",
      "Epoch 7/16\n",
      "48000/48000 [==============================] - 5s 100us/sample - loss: 0.0117 - accuracy: 0.9220 - val_loss: 0.0135 - val_accuracy: 0.9077\n",
      "Epoch 8/16\n",
      "48000/48000 [==============================] - 5s 101us/sample - loss: 0.0110 - accuracy: 0.9262 - val_loss: 0.0131 - val_accuracy: 0.9116\n",
      "Epoch 9/16\n",
      "48000/48000 [==============================] - 5s 100us/sample - loss: 0.0103 - accuracy: 0.9308 - val_loss: 0.0136 - val_accuracy: 0.9084\n",
      "Epoch 10/16\n",
      "48000/48000 [==============================] - 5s 98us/sample - loss: 0.0096 - accuracy: 0.9367 - val_loss: 0.0130 - val_accuracy: 0.9122\n",
      "Epoch 11/16\n",
      "48000/48000 [==============================] - 5s 101us/sample - loss: 0.0092 - accuracy: 0.9397 - val_loss: 0.0128 - val_accuracy: 0.9139\n",
      "Epoch 12/16\n",
      "48000/48000 [==============================] - 5s 104us/sample - loss: 0.0086 - accuracy: 0.9442 - val_loss: 0.0126 - val_accuracy: 0.9156\n",
      "Epoch 13/16\n",
      "48000/48000 [==============================] - 5s 101us/sample - loss: 0.0082 - accuracy: 0.9473 - val_loss: 0.0131 - val_accuracy: 0.9133\n",
      "Epoch 14/16\n",
      "48000/48000 [==============================] - 5s 98us/sample - loss: 0.0077 - accuracy: 0.9509 - val_loss: 0.0124 - val_accuracy: 0.9186\n",
      "Epoch 15/16\n",
      "48000/48000 [==============================] - 5s 96us/sample - loss: 0.0074 - accuracy: 0.9532 - val_loss: 0.0129 - val_accuracy: 0.9153\n",
      "Epoch 16/16\n",
      "48000/48000 [==============================] - 5s 94us/sample - loss: 0.0069 - accuracy: 0.9559 - val_loss: 0.0128 - val_accuracy: 0.9154\n"
     ]
    },
    {
     "data": {
      "text/plain": [
       "<tensorflow.python.keras.callbacks.History at 0x2804af4aa48>"
      ]
     },
     "execution_count": 21,
     "metadata": {},
     "output_type": "execute_result"
    }
   ],
   "source": [
    "model.fit(x_train, y_train, batch_size=64, epochs=16 , validation_split = 0.2)"
   ]
  },
  {
   "cell_type": "code",
   "execution_count": 22,
   "metadata": {},
   "outputs": [
    {
     "name": "stdout",
     "output_type": "stream",
     "text": [
      "10000/10000 [==============================] - 1s 130us/sample - loss: 0.0133 - accuracy: 0.9150\n",
      "資料正確率為: 0.915\n"
     ]
    }
   ],
   "source": [
    "score = model.evaluate(x_test,y_test)\n",
    "loss, acc = score\n",
    "print('資料正確率為:', acc)"
   ]
  },
  {
   "cell_type": "code",
   "execution_count": 23,
   "metadata": {},
   "outputs": [
    {
     "name": "stdout",
     "output_type": "stream",
     "text": [
      "Train on 30000 samples, validate on 30000 samples\n",
      "Epoch 1/16\n",
      "30000/30000 [==============================] - 5s 164us/sample - loss: 0.0063 - accuracy: 0.9604 - val_loss: 0.0090 - val_accuracy: 0.9423\n",
      "Epoch 2/16\n",
      "30000/30000 [==============================] - 4s 150us/sample - loss: 0.0056 - accuracy: 0.9653 - val_loss: 0.0095 - val_accuracy: 0.9395\n",
      "Epoch 3/16\n",
      "30000/30000 [==============================] - 4s 142us/sample - loss: 0.0052 - accuracy: 0.9684 - val_loss: 0.0094 - val_accuracy: 0.9400\n",
      "Epoch 4/16\n",
      "30000/30000 [==============================] - 4s 142us/sample - loss: 0.0051 - accuracy: 0.9691 - val_loss: 0.0098 - val_accuracy: 0.9381\n",
      "Epoch 5/16\n",
      "30000/30000 [==============================] - 4s 149us/sample - loss: 0.0047 - accuracy: 0.9715 - val_loss: 0.0101 - val_accuracy: 0.9357\n",
      "Epoch 6/16\n",
      "30000/30000 [==============================] - 4s 142us/sample - loss: 0.0047 - accuracy: 0.9714 - val_loss: 0.0105 - val_accuracy: 0.9335\n",
      "Epoch 7/16\n",
      "30000/30000 [==============================] - 4s 145us/sample - loss: 0.0043 - accuracy: 0.9735 - val_loss: 0.0103 - val_accuracy: 0.9345\n",
      "Epoch 8/16\n",
      "30000/30000 [==============================] - 4s 139us/sample - loss: 0.0039 - accuracy: 0.9764 - val_loss: 0.0102 - val_accuracy: 0.9353\n",
      "Epoch 9/16\n",
      "30000/30000 [==============================] - 4s 141us/sample - loss: 0.0037 - accuracy: 0.9778 - val_loss: 0.0105 - val_accuracy: 0.9347\n",
      "Epoch 10/16\n",
      "30000/30000 [==============================] - 4s 145us/sample - loss: 0.0038 - accuracy: 0.9771 - val_loss: 0.0105 - val_accuracy: 0.9349\n",
      "Epoch 11/16\n",
      "30000/30000 [==============================] - 4s 143us/sample - loss: 0.0035 - accuracy: 0.9788 - val_loss: 0.0112 - val_accuracy: 0.9319\n",
      "Epoch 12/16\n",
      "30000/30000 [==============================] - 4s 142us/sample - loss: 0.0033 - accuracy: 0.9808 - val_loss: 0.0107 - val_accuracy: 0.9349\n",
      "Epoch 13/16\n",
      "30000/30000 [==============================] - 4s 144us/sample - loss: 0.0032 - accuracy: 0.9810 - val_loss: 0.0115 - val_accuracy: 0.9291\n",
      "Epoch 14/16\n",
      "30000/30000 [==============================] - 4s 144us/sample - loss: 0.0033 - accuracy: 0.9801 - val_loss: 0.0123 - val_accuracy: 0.9256\n",
      "Epoch 15/16\n",
      "30000/30000 [==============================] - 4s 146us/sample - loss: 0.0033 - accuracy: 0.9804 - val_loss: 0.0118 - val_accuracy: 0.9280\n",
      "Epoch 16/16\n",
      "30000/30000 [==============================] - 4s 146us/sample - loss: 0.0031 - accuracy: 0.9812 - val_loss: 0.0118 - val_accuracy: 0.9291\n"
     ]
    },
    {
     "data": {
      "text/plain": [
       "<tensorflow.python.keras.callbacks.History at 0x28119f7bc48>"
      ]
     },
     "execution_count": 23,
     "metadata": {},
     "output_type": "execute_result"
    }
   ],
   "source": [
    "model.fit(x_train, y_train, batch_size=64, epochs=16 , validation_split = 0.5)"
   ]
  },
  {
   "cell_type": "code",
   "execution_count": 24,
   "metadata": {},
   "outputs": [
    {
     "name": "stdout",
     "output_type": "stream",
     "text": [
      "10000/10000 [==============================] - 1s 93us/sample - loss: 0.0154 - accuracy: 0.9099\n",
      "資料正確率為: 0.9099\n"
     ]
    }
   ],
   "source": [
    "score = model.evaluate(x_test,y_test)\n",
    "loss, acc = score\n",
    "print('資料正確率為:', acc)"
   ]
  },
  {
   "cell_type": "markdown",
   "metadata": {},
   "source": [
    "### 從2成訓練資料為驗證集 提高到 5成訓練資料為驗證集 accuracy從0.915下降到 0.9099"
   ]
  },
  {
   "cell_type": "code",
   "execution_count": 25,
   "metadata": {},
   "outputs": [
    {
     "name": "stdout",
     "output_type": "stream",
     "text": [
      "Train on 39000 samples, validate on 21000 samples\n",
      "Epoch 1/16\n",
      "39000/39000 [==============================] - 5s 137us/sample - loss: 0.0053 - accuracy: 0.9678 - val_loss: 0.0130 - val_accuracy: 0.9198\n",
      "Epoch 2/16\n",
      "39000/39000 [==============================] - 5s 123us/sample - loss: 0.0049 - accuracy: 0.9698 - val_loss: 0.0125 - val_accuracy: 0.9226\n",
      "Epoch 3/16\n",
      "39000/39000 [==============================] - 5s 123us/sample - loss: 0.0040 - accuracy: 0.9763 - val_loss: 0.0123 - val_accuracy: 0.9245\n",
      "Epoch 4/16\n",
      "39000/39000 [==============================] - 5s 123us/sample - loss: 0.0037 - accuracy: 0.9781 - val_loss: 0.0123 - val_accuracy: 0.9263\n",
      "Epoch 5/16\n",
      "39000/39000 [==============================] - 5s 119us/sample - loss: 0.0038 - accuracy: 0.9769 - val_loss: 0.0124 - val_accuracy: 0.9262\n",
      "Epoch 6/16\n",
      "39000/39000 [==============================] - 5s 121us/sample - loss: 0.0036 - accuracy: 0.9777 - val_loss: 0.0127 - val_accuracy: 0.9237\n",
      "Epoch 7/16\n",
      "39000/39000 [==============================] - 5s 123us/sample - loss: 0.0036 - accuracy: 0.9789 - val_loss: 0.0122 - val_accuracy: 0.9271\n",
      "Epoch 8/16\n",
      "39000/39000 [==============================] - 5s 120us/sample - loss: 0.0033 - accuracy: 0.9802 - val_loss: 0.0141 - val_accuracy: 0.9160\n",
      "Epoch 9/16\n",
      "39000/39000 [==============================] - 5s 122us/sample - loss: 0.0033 - accuracy: 0.9805 - val_loss: 0.0132 - val_accuracy: 0.9217\n",
      "Epoch 10/16\n",
      "39000/39000 [==============================] - 5s 124us/sample - loss: 0.0033 - accuracy: 0.9803 - val_loss: 0.0130 - val_accuracy: 0.9236\n",
      "Epoch 11/16\n",
      "39000/39000 [==============================] - 5s 126us/sample - loss: 0.0031 - accuracy: 0.9815 - val_loss: 0.0130 - val_accuracy: 0.9235\n",
      "Epoch 12/16\n",
      "39000/39000 [==============================] - 5s 123us/sample - loss: 0.0030 - accuracy: 0.9817 - val_loss: 0.0133 - val_accuracy: 0.9223\n",
      "Epoch 13/16\n",
      "39000/39000 [==============================] - 5s 127us/sample - loss: 0.0032 - accuracy: 0.9809 - val_loss: 0.0134 - val_accuracy: 0.9214\n",
      "Epoch 14/16\n",
      "39000/39000 [==============================] - 5s 122us/sample - loss: 0.0032 - accuracy: 0.9811 - val_loss: 0.0129 - val_accuracy: 0.9255\n",
      "Epoch 15/16\n",
      "39000/39000 [==============================] - 5s 119us/sample - loss: 0.0029 - accuracy: 0.9828 - val_loss: 0.0131 - val_accuracy: 0.9230\n",
      "Epoch 16/16\n",
      "39000/39000 [==============================] - 5s 125us/sample - loss: 0.0027 - accuracy: 0.9841 - val_loss: 0.0130 - val_accuracy: 0.9239\n"
     ]
    },
    {
     "data": {
      "text/plain": [
       "<tensorflow.python.keras.callbacks.History at 0x28131b37908>"
      ]
     },
     "execution_count": 25,
     "metadata": {},
     "output_type": "execute_result"
    }
   ],
   "source": [
    "model.fit(x_train, y_train, batch_size=64, epochs=16 , validation_split = 0.35)"
   ]
  },
  {
   "cell_type": "code",
   "execution_count": 26,
   "metadata": {},
   "outputs": [
    {
     "name": "stdout",
     "output_type": "stream",
     "text": [
      "10000/10000 [==============================] - 1s 88us/sample - loss: 0.0155 - accuracy: 0.9098\n",
      "資料正確率為: 0.9098\n"
     ]
    }
   ],
   "source": [
    "score = model.evaluate(x_test,y_test)\n",
    "loss, acc = score\n",
    "print('資料正確率為:', acc)"
   ]
  },
  {
   "cell_type": "markdown",
   "metadata": {},
   "source": [
    "### 3.5成訓練資料為驗證集 accuracy為0.9098 推測幾成訓練資料當作驗證集與正確率無正相關"
   ]
  }
 ],
 "metadata": {
  "kernelspec": {
   "display_name": "Python 3",
   "language": "python",
   "name": "python3"
  },
  "language_info": {
   "codemirror_mode": {
    "name": "ipython",
    "version": 3
   },
   "file_extension": ".py",
   "mimetype": "text/x-python",
   "name": "python",
   "nbconvert_exporter": "python",
   "pygments_lexer": "ipython3",
   "version": "3.7.4"
  }
 },
 "nbformat": 4,
 "nbformat_minor": 2
}
