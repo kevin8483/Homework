{
 "cells": [
  {
   "cell_type": "code",
   "execution_count": 8,
   "metadata": {},
   "outputs": [],
   "source": [
    "def partition(arr,low,high): # 副程式partition\n",
    "    i = ( low-1 )         \n",
    "    pivot = arr[high]     # pivot \n",
    "  \n",
    "    for j in range(low , high): \n",
    "         \n",
    "        if   arr[j] <= pivot: # 如果目前的數值小於pivot\n",
    "          \n",
    "            i = i+1 \n",
    "            arr[i],arr[j] = arr[j],arr[i] # SWAP A[i],A[j]\n",
    "  \n",
    "    arr[i+1],arr[high] = arr[high],arr[i+1] # SWAP A[i+1],A[high]\n",
    "    return ( i+1 ) \n",
    "  \n",
    "\n",
    "def QuickSort(arr,low,high): # 主程式QuickSort : 排列A[low]~A[high]\n",
    "    if low < high: \n",
    "  \n",
    "        q = partition(arr,low,high) \n",
    "  \n",
    "        QuickSort(arr, low, q-1) \n",
    "        QuickSort(arr, q+1, high) "
   ]
  },
  {
   "cell_type": "code",
   "execution_count": 10,
   "metadata": {},
   "outputs": [
    {
     "name": "stdout",
     "output_type": "stream",
     "text": [
      "Sorted array is:\n",
      "8\n",
      "10\n",
      "10\n",
      "29\n",
      "35\n",
      "38\n",
      "57\n",
      "60\n",
      "156\n"
     ]
    }
   ],
   "source": [
    "arr = [29, 38, 156, 10, 35, 57, 10, 8, 60] \n",
    "n = len(arr) \n",
    "QuickSort(arr,0,n-1) \n",
    "print (\"Sorted array is:\") \n",
    "for i in range(n): \n",
    "    print (\"%d\" %arr[i]), "
   ]
  }
 ],
 "metadata": {
  "kernelspec": {
   "display_name": "Python 3",
   "language": "python",
   "name": "python3"
  },
  "language_info": {
   "codemirror_mode": {
    "name": "ipython",
    "version": 3
   },
   "file_extension": ".py",
   "mimetype": "text/x-python",
   "name": "python",
   "nbconvert_exporter": "python",
   "pygments_lexer": "ipython3",
   "version": "3.7.4"
  }
 },
 "nbformat": 4,
 "nbformat_minor": 2
}
