{
 "cells": [
  {
   "cell_type": "markdown",
   "metadata": {},
   "source": [
    "## 1.匯入所需套件"
   ]
  },
  {
   "cell_type": "code",
   "execution_count": 1,
   "metadata": {},
   "outputs": [],
   "source": [
    "# Import some useful packages\n",
    "import matplotlib.pyplot as plt\n",
    "import numpy as np\n",
    "\n",
    "# Layers for FNN\n",
    "from tensorflow.keras.models import Sequential\n",
    "from tensorflow.keras.layers import Dense\n",
    "from tensorflow.keras.layers import Flatten\n",
    "\n",
    "# Layers for CNN\n",
    "from tensorflow.keras.layers import Conv2D, MaxPool2D, GlobalAveragePooling2D\n",
    "\n",
    "from tensorflow.keras.optimizers import SGD, Adam\n",
    "\n",
    "# For data preprocessing\n",
    "from tensorflow.keras import datasets\n",
    "from tensorflow.keras.utils import to_categorical"
   ]
  },
  {
   "cell_type": "markdown",
   "metadata": {},
   "source": [
    "## 2.匯入Functional API所需"
   ]
  },
  {
   "cell_type": "code",
   "execution_count": 4,
   "metadata": {},
   "outputs": [],
   "source": [
    "from tensorflow.keras.models import Model\n",
    "from tensorflow.keras.layers import Input\n",
    "from tensorflow.keras.layers import concatenate, add"
   ]
  },
  {
   "cell_type": "markdown",
   "metadata": {},
   "source": [
    "## 3.下載並整理 Fashion MNIST 資料集"
   ]
  },
  {
   "cell_type": "code",
   "execution_count": 28,
   "metadata": {},
   "outputs": [],
   "source": [
    "# Load Fashine MNIST\n",
    "(x_train, y_train0), (x_test, y_test0) = datasets.fashion_mnist.load_data()\n",
    "\n",
    "# Reshape size\n",
    "x_train = x_train.reshape(-1, 28*28)\n",
    "x_test = x_test.reshape(-1, 28*28)\n",
    "\n",
    "# Normalize the range of featurs\n",
    "x_train = x_train / x_train.max()\n",
    "x_test = x_test / x_test.max()\n",
    "\n",
    "# One-hot encoding\n",
    "y_train = to_categorical(y_train0, 10)\n",
    "y_test = to_categorical(y_test0, 10)"
   ]
  },
  {
   "cell_type": "markdown",
   "metadata": {},
   "source": [
    "## 4.開始打造Functional API\n",
    "### 我想做一個 1 * 2 * 4 * 2 * 1 的神經網路。\n",
    "### 也就是說需要輸入及輸出(x,y),輸入為784維的向量，輸出為10維的向量。\n",
    "### 中間的結果有h1~h8八個 h1,2,7,8為500維的向量，h3,4,5,6為250維的向量。\n",
    "### 函數有f1~f9九個，上半f1,3,4,7為sigmoid，下半f2,5,6,8為relu，f9為softmax。"
   ]
  },
  {
   "cell_type": "code",
   "execution_count": 29,
   "metadata": {},
   "outputs": [],
   "source": [
    "f_1 = Dense(500, activation = 'sigmoid')\n",
    "f_2 = Dense(500, activation = 'relu')\n",
    "f_3 = Dense(250, activation = 'sigmoid')\n",
    "f_4 = Dense(250, activation = 'sigmoid')\n",
    "f_5 = Dense(250, activation = 'relu')\n",
    "f_6 = Dense(250, activation = 'relu')\n",
    "f_7 = Dense(500, activation = 'sigmoid')\n",
    "f_8 = Dense(500, activation = 'relu')\n",
    "f_9 = Dense(10, activation = 'softmax')"
   ]
  },
  {
   "cell_type": "code",
   "execution_count": 30,
   "metadata": {},
   "outputs": [],
   "source": [
    "x = Input(shape=(784,))"
   ]
  },
  {
   "cell_type": "markdown",
   "metadata": {},
   "source": [
    "### 確認輸入x為784維的向量"
   ]
  },
  {
   "cell_type": "code",
   "execution_count": 31,
   "metadata": {},
   "outputs": [
    {
     "name": "stdout",
     "output_type": "stream",
     "text": [
      "Tensor(\"input_3:0\", shape=(None, 784), dtype=float32)\n"
     ]
    }
   ],
   "source": [
    "print(x)"
   ]
  },
  {
   "cell_type": "code",
   "execution_count": 32,
   "metadata": {},
   "outputs": [],
   "source": [
    "h_1 = f_1(x)\n",
    "h_2 = f_2(x)"
   ]
  },
  {
   "cell_type": "code",
   "execution_count": 33,
   "metadata": {},
   "outputs": [],
   "source": [
    "h_3 = f_3(h_1)\n",
    "h_4 = f_4(h_1)\n",
    "h_5 = f_5(h_2)\n",
    "h_6 = f_6(h_2)"
   ]
  },
  {
   "cell_type": "code",
   "execution_count": 34,
   "metadata": {},
   "outputs": [],
   "source": [
    "z_1 = concatenate([h_3, h_4])\n",
    "h_7 = f_7(z_1)\n",
    "z_2 = concatenate([h_5, h_6])\n",
    "h_8 = f_8(z_2)"
   ]
  },
  {
   "cell_type": "code",
   "execution_count": 35,
   "metadata": {},
   "outputs": [],
   "source": [
    "z_3 = concatenate([h_7, h_8])\n",
    "y = f_9(z_3)"
   ]
  },
  {
   "cell_type": "markdown",
   "metadata": {},
   "source": [
    "## 確認z_3為1000維的向量，輸出y為10維的向量"
   ]
  },
  {
   "cell_type": "code",
   "execution_count": 36,
   "metadata": {},
   "outputs": [
    {
     "name": "stdout",
     "output_type": "stream",
     "text": [
      "Tensor(\"concatenate_10/Identity:0\", shape=(None, 1000), dtype=float32)\n",
      "Tensor(\"dense_26/Identity:0\", shape=(None, 10), dtype=float32)\n"
     ]
    }
   ],
   "source": [
    "print(z_3)\n",
    "print(y)"
   ]
  },
  {
   "cell_type": "code",
   "execution_count": 37,
   "metadata": {},
   "outputs": [
    {
     "name": "stdout",
     "output_type": "stream",
     "text": [
      "Model: \"model_1\"\n",
      "__________________________________________________________________________________________________\n",
      "Layer (type)                    Output Shape         Param #     Connected to                     \n",
      "==================================================================================================\n",
      "input_3 (InputLayer)            [(None, 784)]        0                                            \n",
      "__________________________________________________________________________________________________\n",
      "dense_18 (Dense)                (None, 500)          392500      input_3[0][0]                    \n",
      "__________________________________________________________________________________________________\n",
      "dense_19 (Dense)                (None, 500)          392500      input_3[0][0]                    \n",
      "__________________________________________________________________________________________________\n",
      "dense_20 (Dense)                (None, 250)          125250      dense_18[0][0]                   \n",
      "__________________________________________________________________________________________________\n",
      "dense_21 (Dense)                (None, 250)          125250      dense_18[0][0]                   \n",
      "__________________________________________________________________________________________________\n",
      "dense_22 (Dense)                (None, 250)          125250      dense_19[0][0]                   \n",
      "__________________________________________________________________________________________________\n",
      "dense_23 (Dense)                (None, 250)          125250      dense_19[0][0]                   \n",
      "__________________________________________________________________________________________________\n",
      "concatenate_8 (Concatenate)     (None, 500)          0           dense_20[0][0]                   \n",
      "                                                                 dense_21[0][0]                   \n",
      "__________________________________________________________________________________________________\n",
      "concatenate_9 (Concatenate)     (None, 500)          0           dense_22[0][0]                   \n",
      "                                                                 dense_23[0][0]                   \n",
      "__________________________________________________________________________________________________\n",
      "dense_24 (Dense)                (None, 500)          250500      concatenate_8[0][0]              \n",
      "__________________________________________________________________________________________________\n",
      "dense_25 (Dense)                (None, 500)          250500      concatenate_9[0][0]              \n",
      "__________________________________________________________________________________________________\n",
      "concatenate_10 (Concatenate)    (None, 1000)         0           dense_24[0][0]                   \n",
      "                                                                 dense_25[0][0]                   \n",
      "__________________________________________________________________________________________________\n",
      "dense_26 (Dense)                (None, 10)           10010       concatenate_10[0][0]             \n",
      "==================================================================================================\n",
      "Total params: 1,797,010\n",
      "Trainable params: 1,797,010\n",
      "Non-trainable params: 0\n",
      "__________________________________________________________________________________________________\n"
     ]
    }
   ],
   "source": [
    "model = Model(x, y)\n",
    "model.summary()"
   ]
  },
  {
   "cell_type": "code",
   "execution_count": 38,
   "metadata": {},
   "outputs": [],
   "source": [
    "model.compile(loss='mae', \n",
    "              optimizer=Adam(), \n",
    "              metrics=['accuracy'])"
   ]
  },
  {
   "cell_type": "code",
   "execution_count": 39,
   "metadata": {},
   "outputs": [
    {
     "name": "stdout",
     "output_type": "stream",
     "text": [
      "Train on 60000 samples, validate on 10000 samples\n",
      "Epoch 1/8\n",
      "60000/60000 [==============================] - 4s 63us/sample - loss: 0.0595 - accuracy: 0.7077 - val_loss: 0.0539 - val_accuracy: 0.7304\n",
      "Epoch 2/8\n",
      "60000/60000 [==============================] - 2s 31us/sample - loss: 0.0530 - accuracy: 0.7359 - val_loss: 0.0522 - val_accuracy: 0.7397\n",
      "Epoch 3/8\n",
      "60000/60000 [==============================] - 2s 31us/sample - loss: 0.0523 - accuracy: 0.7391 - val_loss: 0.0552 - val_accuracy: 0.7246\n",
      "Epoch 4/8\n",
      "60000/60000 [==============================] - 2s 32us/sample - loss: 0.0519 - accuracy: 0.7406 - val_loss: 0.0551 - val_accuracy: 0.7244\n",
      "Epoch 5/8\n",
      "60000/60000 [==============================] - 2s 32us/sample - loss: 0.0514 - accuracy: 0.7429 - val_loss: 0.0545 - val_accuracy: 0.7274\n",
      "Epoch 6/8\n",
      "60000/60000 [==============================] - 2s 32us/sample - loss: 0.0522 - accuracy: 0.7389 - val_loss: 0.0539 - val_accuracy: 0.7303\n",
      "Epoch 7/8\n",
      "60000/60000 [==============================] - 2s 31us/sample - loss: 0.0516 - accuracy: 0.7421 - val_loss: 0.0523 - val_accuracy: 0.7385\n",
      "Epoch 8/8\n",
      "60000/60000 [==============================] - 2s 31us/sample - loss: 0.0513 - accuracy: 0.7435 - val_loss: 0.0541 - val_accuracy: 0.7288\n"
     ]
    },
    {
     "data": {
      "text/plain": [
       "<tensorflow.python.keras.callbacks.History at 0x176a7268c88>"
      ]
     },
     "execution_count": 39,
     "metadata": {},
     "output_type": "execute_result"
    }
   ],
   "source": [
    "model.fit(x_train, y_train, \n",
    "          batch_size=200, \n",
    "          epochs=8,\n",
    "         validation_data = (x_test, y_test)\n",
    "         )"
   ]
  },
  {
   "cell_type": "code",
   "execution_count": 40,
   "metadata": {},
   "outputs": [],
   "source": [
    "model.save_weights('MNIST_Model.h5')"
   ]
  },
  {
   "cell_type": "code",
   "execution_count": 41,
   "metadata": {},
   "outputs": [
    {
     "name": "stdout",
     "output_type": "stream",
     "text": [
      "60000/60000 [==============================] - 0s 8us/sample - loss: 0.0536 - accuracy: 0.7320\n",
      "Loss: 0.05363441879550616\n",
      "準確率: 73.19999933242798\n"
     ]
    }
   ],
   "source": [
    "score = model.evaluate(x_train, y_train, batch_size=10000)\n",
    "print(f'Loss: {score[0]}')\n",
    "print(f'準確率: {score[1]*100}')"
   ]
  }
 ],
 "metadata": {
  "kernelspec": {
   "display_name": "Python 3",
   "language": "python",
   "name": "python3"
  },
  "language_info": {
   "codemirror_mode": {
    "name": "ipython",
    "version": 3
   },
   "file_extension": ".py",
   "mimetype": "text/x-python",
   "name": "python",
   "nbconvert_exporter": "python",
   "pygments_lexer": "ipython3",
   "version": "3.7.4"
  }
 },
 "nbformat": 4,
 "nbformat_minor": 2
}
